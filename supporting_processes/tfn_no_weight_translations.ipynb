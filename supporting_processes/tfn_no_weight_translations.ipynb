{
 "cells": [
  {
   "cell_type": "markdown",
   "id": "785fe07f-58b8-4fdd-b486-ecfec87eb98b",
   "metadata": {},
   "source": [
    "# Generating No-Weighting Translation Files for Zone Translations"
   ]
  },
  {
   "cell_type": "markdown",
   "id": "a3aadd1f-b7f3-4bb8-9482-80b13c6153b7",
   "metadata": {},
   "source": [
    "### Import libraries"
   ]
  },
  {
   "cell_type": "code",
   "execution_count": 1,
   "id": "eca84359-c07d-4640-8529-8e7a5da1c129",
   "metadata": {},
   "outputs": [],
   "source": [
    "from pathlib import Path\n",
    "\n",
    "import pandas as pd"
   ]
  },
  {
   "cell_type": "markdown",
   "id": "459f13bd-fbd5-42ab-b1e7-974cad988a9f",
   "metadata": {},
   "source": [
    "### Define path to the cache folder for zone translations. \n",
    "\n",
    "This should be where all zone systems / translations have been stored."
   ]
  },
  {
   "cell_type": "code",
   "execution_count": 2,
   "id": "d94c4968-97f8-430d-8150-f41becdd6504",
   "metadata": {},
   "outputs": [],
   "source": [
    "# define cache folder of zone translations\n",
    "# NOTE THIS PROCESS ASSUMES A SPATIAL WEIGHTING ALREADY EXISTS\n",
    "cache_path = Path(r'F:\\Working\\Land-Use\\CACHE')"
   ]
  },
  {
   "cell_type": "markdown",
   "id": "a071ba67-1875-4910-8a34-92580d65699a",
   "metadata": {},
   "source": [
    "### Get a list of folders of existing spatial weightings\n",
    "\n",
    "These input folders are identified by an underscore in the name, so it is recommended to define any zone systems as either entire strings (e.g. LSOA2021) or using hyphens (e.g. LSOA2021-EM). That way, only _translations_ are picked up through this script, and zone systems are ignored."
   ]
  },
  {
   "cell_type": "code",
   "execution_count": 3,
   "id": "4779ae48-0e53-4147-855e-e76bc5d47cb8",
   "metadata": {},
   "outputs": [],
   "source": [
    "# get a list of zone translation folders that already exist (with at least a spatial weighting translation inside)\n",
    "input_folders = [directory for directory in cache_path.glob(pattern='*_*') if directory.is_dir()]"
   ]
  },
  {
   "cell_type": "markdown",
   "id": "2bf0e532-3e17-4af4-bbe9-23a5af6fd939",
   "metadata": {},
   "source": [
    "### Loop through folders and produce non-spatial weighting files.\n",
    "\n",
    "For each directory in `input_folders`, this looks for a `_spatial.csv` spatial weighting file and replaces any weights with 1. If there is not spatial weighting file already existing then **this code will fail**."
   ]
  },
  {
   "cell_type": "code",
   "execution_count": 4,
   "id": "0a134373-8916-4ca0-8f04-9e6dc63de578",
   "metadata": {},
   "outputs": [],
   "source": [
    "# go through each directory and create a no_weighting version of the spatial weighting file\n",
    "for input_folder in input_folders:\n",
    "    zone_1, zone_2 = input_folder.name.split('_')\n",
    "    spatial_weighting = pd.read_csv(input_folder / f'{zone_1}_to_{zone_2}_spatial.csv')\n",
    "    no_weighting = spatial_weighting.copy()\n",
    "    no_weighting[f'{zone_1}_to_{zone_2}'] = 1\n",
    "    no_weighting[f'{zone_2}_to_{zone_1}'] = 1\n",
    "    no_weighting.to_csv(input_folder / f'{zone_1}_to_{zone_2}_no_weighting.csv', index=False)"
   ]
  },
  {
   "cell_type": "code",
   "execution_count": null,
   "id": "9db02d26-4172-418e-9dca-c2390fd001dc",
   "metadata": {},
   "outputs": [],
   "source": []
  }
 ],
 "metadata": {
  "kernelspec": {
   "display_name": "Python 3 (ipykernel)",
   "language": "python",
   "name": "python3"
  },
  "language_info": {
   "codemirror_mode": {
    "name": "ipython",
    "version": 3
   },
   "file_extension": ".py",
   "mimetype": "text/x-python",
   "name": "python",
   "nbconvert_exporter": "python",
   "pygments_lexer": "ipython3",
   "version": "3.11.9"
  }
 },
 "nbformat": 4,
 "nbformat_minor": 5
}
