{
 "cells": [
  {
   "cell_type": "markdown",
   "id": "67160691-1933-40f8-8295-99290700fbab",
   "metadata": {},
   "source": [
    "### Imports"
   ]
  },
  {
   "cell_type": "code",
   "execution_count": 1,
   "id": "dfbeac9c-2e58-41fb-ad60-f74360abfea1",
   "metadata": {},
   "outputs": [
    {
     "name": "stderr",
     "output_type": "stream",
     "text": [
      "C:\\ProgramData\\Anaconda3\\envs\\normits_lu\\Lib\\site-packages\\tqdm\\auto.py:21: TqdmWarning: IProgress not found. Please update jupyter and ipywidgets. See https://ipywidgets.readthedocs.io/en/stable/user_install.html\n",
      "  from .autonotebook import tqdm as notebook_tqdm\n"
     ]
    }
   ],
   "source": [
    "from collections import OrderedDict\n",
    "import math\n",
    "\n",
    "from caf.core import DVector, ZoningSystem\n",
    "import folium\n",
    "import geopandas as gpd\n",
    "import branca as bc"
   ]
  },
  {
   "cell_type": "markdown",
   "id": "eecfe768-c061-4693-829e-ee64bf3231ef",
   "metadata": {},
   "source": [
    "### Define constants"
   ]
  },
  {
   "cell_type": "code",
   "execution_count": 2,
   "id": "fbfddf96-057b-4ca1-b665-8e01896e1681",
   "metadata": {},
   "outputs": [],
   "source": [
    "# Define GOR to process\n",
    "GOR = 'NW'\n",
    "# define geopandas simplification tolerance (30 looks like good compromise between file size and boudnary detail)\n",
    "# (think this relates to metres if the shapefile is in BNG)\n",
    "tolerance = 30"
   ]
  },
  {
   "cell_type": "markdown",
   "id": "490a17d5-1f2b-4a8d-a60a-542ca5efc3ba",
   "metadata": {},
   "source": [
    "### Read in data"
   ]
  },
  {
   "cell_type": "code",
   "execution_count": 3,
   "id": "fe6e5252-7f97-43ff-abe6-3779bb17de18",
   "metadata": {},
   "outputs": [],
   "source": [
    "# Get some example output - convert to MSOA (LSOA files were huge)\n",
    "example_output = DVector.load(f'Output P11_{GOR}.hdf').translate_zoning(\n",
    "    ZoningSystem.get_zoning(f'MSOA2021-{GOR}', search_dir=r'F:\\Working\\Land-Use\\CACHE'),\n",
    "    cache_path=r'F:\\Working\\Land-Use\\CACHE'\n",
    ")\n",
    "\n",
    "# get segmentation from DVector\n",
    "segs = example_output.data.index.names\n",
    "\n",
    "spatial_zones = gpd.read_file(example_output.zoning_system.metadata.shapefile_path)\n",
    "id_col = example_output.zoning_system.metadata.shapefile_id_col\n",
    "\n",
    "spatial_zones = spatial_zones[[id_col, 'geometry']]"
   ]
  },
  {
   "cell_type": "markdown",
   "id": "51e3b96b-5a48-45f9-b63a-6fb445b731d3",
   "metadata": {},
   "source": [
    "### Create maps"
   ]
  },
  {
   "cell_type": "code",
   "execution_count": 4,
   "id": "ac44453a-bf6b-4434-98fb-ec74d0d1fede",
   "metadata": {},
   "outputs": [
    {
     "name": "stdout",
     "output_type": "stream",
     "text": [
      "Processing segmentation accom_h\n",
      "Processing absolute data\n",
      "Processing proportional data\n",
      "Processing segmentation ns_sec\n",
      "Processing absolute data\n",
      "Processing proportional data\n",
      "Processing segmentation adults\n",
      "Processing absolute data\n",
      "Processing proportional data\n",
      "Processing segmentation car_availability\n",
      "Processing absolute data\n",
      "Processing proportional data\n",
      "Processing segmentation children\n",
      "Processing absolute data\n",
      "Processing proportional data\n",
      "Processing segmentation adult_nssec\n",
      "Processing absolute data\n",
      "Processing proportional data\n",
      "Processing segmentation age_9\n",
      "Processing absolute data\n",
      "Processing proportional data\n",
      "Processing segmentation g\n",
      "Processing absolute data\n",
      "Processing proportional data\n",
      "Processing segmentation economic_status\n",
      "Processing absolute data\n",
      "Processing proportional data\n",
      "Processing segmentation pop_emp\n",
      "Processing absolute data\n",
      "Processing proportional data\n",
      "Processing segmentation soc\n",
      "Processing absolute data\n",
      "Processing proportional data\n"
     ]
    }
   ],
   "source": [
    "# loop through the available segmentations in the data\n",
    "for seg in segs:\n",
    "    print(f'Processing segmentation {seg}')\n",
    "\n",
    "    # Take some example segment\n",
    "    zonal_summary = example_output.aggregate([seg]).data.T\n",
    "    \n",
    "    # Folium seems to struggle with integer names - convert to strings.\n",
    "    zonal_summary.columns = [example_output.segmentation.seg_dict[seg].values[c] for c in zonal_summary.columns]\n",
    "    \n",
    "    # Figure out the zone totals, and calculate proportions\n",
    "    proportional_summary = zonal_summary.copy()\n",
    "    zone_totals = proportional_summary.sum(axis=1)\n",
    "    for col in proportional_summary.columns:\n",
    "        proportional_summary[col] = proportional_summary[col] / zone_totals\n",
    "    dfs = {'absolute': zonal_summary, 'proportional': proportional_summary}\n",
    "\n",
    "    for unit, df in dfs.items():\n",
    "        print(f'Processing {unit} data')\n",
    "        \n",
    "        # get if the dataframe is absolute or proportional data\n",
    "        proportional = unit == 'proportional'\n",
    "        \n",
    "        # get upper and lower limit across all the categories (columns)\n",
    "        if proportional:\n",
    "            vmax = math.floor(df[df.columns].max().max() * 100) / 100.0\n",
    "            vmin = math.ceil(df[df.columns].min().min() * 100) / 100.0\n",
    "        else: \n",
    "            vmax = math.ceil(df[df.columns].max().max())\n",
    "            vmin = 0\n",
    "        \n",
    "        # Merge the spatial file with the data\n",
    "        spatial_data = gpd.GeoDataFrame(\n",
    "            spatial_zones.merge(df, how='left', right_index=True, left_on=id_col)\n",
    "        )\n",
    "            \n",
    "        # try simplifying the geometry of the shapefile to see if it reduces the size of the outputs\n",
    "        spatial_simplified = spatial_data.copy()\n",
    "        spatial_simplified[\"geometry\"] = spatial_data.geometry.simplify(tolerance=tolerance, preserve_topology=True)\n",
    "        \n",
    "        # Make the map, add the different layers and a switcher\n",
    "        map = folium.Map(tiles=None)\n",
    "        folium.TileLayer('CartoDB positron', name='Light Map', control=False).add_to(map) \n",
    "        show = True\n",
    "        for i, col in enumerate(zonal_summary.columns):\n",
    "            if i > 0:\n",
    "                show = False\n",
    "            _ = spatial_simplified.explore(\n",
    "                column=col,\n",
    "                vmin=vmin,\n",
    "                vmax=vmax,\n",
    "                cmap='viridis' if proportional else 'plasma',\n",
    "                m=map,\n",
    "                name=col,\n",
    "                overlay=False,\n",
    "                tooltip_kwds={'localize': True},\n",
    "                style_kwds={'color': 'black', 'weight': 1, 'fillOpacity': 0.3},\n",
    "                show=show\n",
    "            )\n",
    "\n",
    "        # create layer control legend\n",
    "        folium.LayerControl(collapsed=False).add_to(map)\n",
    "        map.fit_bounds(map.get_bounds(), padding=(30, 30))\n",
    "\n",
    "        # deal with color bar formatting, and only plotting one\n",
    "        new_children = OrderedDict()\n",
    "        has_cbar = False\n",
    "        \n",
    "        # remove colour bars\n",
    "        for name, obj in map._children.items():\n",
    "            if not isinstance(obj, bc.colormap.ColorMap):\n",
    "                new_children[name] = obj\n",
    "            elif not has_cbar:\n",
    "                new_children[name] = obj\n",
    "                obj.caption = f'{seg.upper()} ({unit.lower()})'\n",
    "                has_cbar = True\n",
    "        # overwrite children\n",
    "        map._children = new_children\n",
    "\n",
    "        # save interactive map output\n",
    "        map.save(fr'C:/Projects/maps/{GOR}-{seg}-{unit}.html')"
   ]
  }
 ],
 "metadata": {
  "kernelspec": {
   "display_name": "Python 3 (ipykernel)",
   "language": "python",
   "name": "python3"
  },
  "language_info": {
   "codemirror_mode": {
    "name": "ipython",
    "version": 3
   },
   "file_extension": ".py",
   "mimetype": "text/x-python",
   "name": "python",
   "nbconvert_exporter": "python",
   "pygments_lexer": "ipython3",
   "version": "3.11.8"
  }
 },
 "nbformat": 4,
 "nbformat_minor": 5
}
