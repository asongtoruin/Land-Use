{
 "cells": [
  {
   "cell_type": "markdown",
   "id": "6e98cfe5-9cef-4d66-834b-07d7be760d42",
   "metadata": {},
   "source": [
    "# Manually editing zone translation files\n",
    "\n",
    "This notebook manually edits the `X_to_Y_spatial.csv` files, where `X` is a region-specific zone system (e.g. LSOA2021-YH) and `Y` is a country-wide zone system (e.g. LAD2021) to add in the \"missing\" elements of the country-wide zone system and infill the translation values with 0. This is because when translating LSOA2021-YH to LAD2021 (for example) only the LAD2021 zones in the YH subset will be generated in the correspondence, and hence when trying to add DVectors (or some other operator), there are missing zones in the DVector.data and the zone columns are then dropped.\n",
    "\n",
    "This is not a perfect work around, but it should at least have no impact on any calculations!"
   ]
  },
  {
   "cell_type": "code",
   "execution_count": 1,
   "id": "41ff4177-13fa-4c61-8c32-9767ea45b7d7",
   "metadata": {},
   "outputs": [],
   "source": [
    "from pathlib import Path\n",
    "from itertools import product\n",
    "\n",
    "import pandas as pd"
   ]
  },
  {
   "cell_type": "markdown",
   "id": "0cbc2699-b454-4390-8593-7aa43a23c5e8",
   "metadata": {},
   "source": [
    "### Define constants and zone systems"
   ]
  },
  {
   "cell_type": "code",
   "execution_count": 2,
   "id": "d3ad55ba-001f-4b7c-8198-7d8a4bfa1f3f",
   "metadata": {},
   "outputs": [],
   "source": [
    "# define cache path\n",
    "CACHE_PATH = Path(r'F:\\Working\\Land-Use\\CACHE')"
   ]
  },
  {
   "cell_type": "code",
   "execution_count": 3,
   "id": "74c12b8e-5c76-4e61-9d62-d282c285353e",
   "metadata": {},
   "outputs": [],
   "source": [
    "# define the \"master\" zone system that we want to add to the translation files\n",
    "# this should be the country-wide zone system you are trying to translate the region-specific DVectors to\n",
    "ZONE_SYSTEM = 'LAD2021+SCOTLANDLAD'"
   ]
  },
  {
   "cell_type": "code",
   "execution_count": 4,
   "id": "c350eca7-43c1-4b40-9013-00e52111c049",
   "metadata": {},
   "outputs": [],
   "source": [
    "# define the regions of the region-specific zone systems\n",
    "GORS = ['EM', 'EoE', 'Lon', 'NE', 'NW', 'SE', 'SW', 'Wales', 'WM', 'YH']\n",
    "# GORS = ['Scotland']"
   ]
  },
  {
   "cell_type": "code",
   "execution_count": 5,
   "id": "7a49b715-0ef2-4a13-b2b8-52c57b4e7c41",
   "metadata": {},
   "outputs": [],
   "source": [
    "# define the zone systems you wish to translate to the ZONE_SYSTEM level (e.g. LSOA2021)\n",
    "ZONE_SYSTEMS = ['LSOA2021']\n",
    "# ZONE_SYSTEMS = ['DZ2011']"
   ]
  },
  {
   "cell_type": "markdown",
   "id": "73580d5f-5e8c-4e72-aab8-dd45464846f0",
   "metadata": {},
   "source": [
    "### Read in the master zone definition to make sure all zones are accounted for"
   ]
  },
  {
   "cell_type": "code",
   "execution_count": 6,
   "id": "83ec06dc-5710-4743-9179-145dfb20e7f8",
   "metadata": {},
   "outputs": [],
   "source": [
    "master = pd.read_csv(CACHE_PATH / ZONE_SYSTEM / 'zoning.csv')"
   ]
  },
  {
   "cell_type": "code",
   "execution_count": 7,
   "id": "21ba5228-cda4-4dc3-975b-09ce19e522e6",
   "metadata": {},
   "outputs": [
    {
     "data": {
      "text/html": [
       "<div>\n",
       "<style scoped>\n",
       "    .dataframe tbody tr th:only-of-type {\n",
       "        vertical-align: middle;\n",
       "    }\n",
       "\n",
       "    .dataframe tbody tr th {\n",
       "        vertical-align: top;\n",
       "    }\n",
       "\n",
       "    .dataframe thead th {\n",
       "        text-align: right;\n",
       "    }\n",
       "</style>\n",
       "<table border=\"1\" class=\"dataframe\">\n",
       "  <thead>\n",
       "    <tr style=\"text-align: right;\">\n",
       "      <th></th>\n",
       "      <th>zone_id</th>\n",
       "      <th>descriptions</th>\n",
       "    </tr>\n",
       "  </thead>\n",
       "  <tbody>\n",
       "    <tr>\n",
       "      <th>0</th>\n",
       "      <td>S12000005</td>\n",
       "      <td>Clackmannanshire</td>\n",
       "    </tr>\n",
       "    <tr>\n",
       "      <th>1</th>\n",
       "      <td>S12000006</td>\n",
       "      <td>Dumfries and Galloway</td>\n",
       "    </tr>\n",
       "    <tr>\n",
       "      <th>2</th>\n",
       "      <td>S12000008</td>\n",
       "      <td>East Ayrshire</td>\n",
       "    </tr>\n",
       "    <tr>\n",
       "      <th>3</th>\n",
       "      <td>S12000010</td>\n",
       "      <td>East Lothian</td>\n",
       "    </tr>\n",
       "    <tr>\n",
       "      <th>4</th>\n",
       "      <td>S12000011</td>\n",
       "      <td>East Renfrewshire</td>\n",
       "    </tr>\n",
       "  </tbody>\n",
       "</table>\n",
       "</div>"
      ],
      "text/plain": [
       "     zone_id           descriptions\n",
       "0  S12000005       Clackmannanshire\n",
       "1  S12000006  Dumfries and Galloway\n",
       "2  S12000008          East Ayrshire\n",
       "3  S12000010           East Lothian\n",
       "4  S12000011      East Renfrewshire"
      ]
     },
     "execution_count": 7,
     "metadata": {},
     "output_type": "execute_result"
    }
   ],
   "source": [
    "master.head()"
   ]
  },
  {
   "cell_type": "markdown",
   "id": "6193d51a-4063-400e-a770-a186e0be8808",
   "metadata": {},
   "source": [
    "### Add in \"missing\" zones from the master zone system to the translation files (with 0 data)"
   ]
  },
  {
   "cell_type": "code",
   "execution_count": 8,
   "id": "4db3c565-a074-49fa-82e4-cd84fd977b81",
   "metadata": {
    "scrolled": true
   },
   "outputs": [],
   "source": [
    "for SYSTEM, GOR in product(ZONE_SYSTEMS, GORS):\n",
    "    translation_file = CACHE_PATH / f'{ZONE_SYSTEM}_{SYSTEM}-{GOR}' / f'{ZONE_SYSTEM}_to_{SYSTEM}-{GOR}_spatial.csv'\n",
    "    # translation_file = CACHE_PATH / f'{SYSTEM}-{GOR}_{ZONE_SYSTEM}' / f'{SYSTEM}-{GOR}_to_{ZONE_SYSTEM}_spatial.csv'\n",
    "    # translation_file = CACHE_PATH / f'{SYSTEM}_{ZONE_SYSTEM}' / f'{SYSTEM}_to_{ZONE_SYSTEM}_spatial.csv'\n",
    "    # read in translation file (this should be a direct output of caf.space.translate)\n",
    "    sub = pd.read_csv(translation_file)\n",
    "    dfs = [sub]\n",
    "    # add in a 0 column of data for each zone in the master zone system\n",
    "    for zone in master['zone_id'].unique():\n",
    "        mat = sub.copy()\n",
    "        mat[f'{ZONE_SYSTEM}_id'] = zone\n",
    "        mat[f'{SYSTEM}-{GOR}_to_{ZONE_SYSTEM}'] = 0\n",
    "        mat[f'{ZONE_SYSTEM}_to_{SYSTEM}-{GOR}'] = 0\n",
    "        # mat[f'{SYSTEM}_to_{ZONE_SYSTEM}'] = 0\n",
    "        # mat[f'{ZONE_SYSTEM}_to_{SYSTEM}'] = 0\n",
    "        dfs.append(mat)\n",
    "    \n",
    "    # recombine to a single output file\n",
    "    output = pd.concat(dfs).groupby(\n",
    "        [f'{SYSTEM}-{GOR}_id', f'{ZONE_SYSTEM}_id']\n",
    "        # [f'{SYSTEM}_id', f'{ZONE_SYSTEM}_id']\n",
    "    ).agg(\n",
    "        {\n",
    "            f'{SYSTEM}-{GOR}_to_{ZONE_SYSTEM}': 'sum',\n",
    "            f'{ZONE_SYSTEM}_to_{SYSTEM}-{GOR}': 'sum'\n",
    "            # f'{SYSTEM}_to_{ZONE_SYSTEM}': 'sum',\n",
    "            # f'{ZONE_SYSTEM}_to_{SYSTEM}': 'sum'\n",
    "        }\n",
    "    ).reset_index()\n",
    "    # overwrite existing zone translation file\n",
    "    output.to_csv(translation_file, index=False)"
   ]
  },
  {
   "cell_type": "code",
   "execution_count": null,
   "id": "d66ec479-f58b-4867-a444-7a372db29ead",
   "metadata": {},
   "outputs": [],
   "source": []
  }
 ],
 "metadata": {
  "kernelspec": {
   "display_name": "Python 3 (ipykernel)",
   "language": "python",
   "name": "python3"
  },
  "language_info": {
   "codemirror_mode": {
    "name": "ipython",
    "version": 3
   },
   "file_extension": ".py",
   "mimetype": "text/x-python",
   "name": "python",
   "nbconvert_exporter": "python",
   "pygments_lexer": "ipython3",
   "version": "3.11.8"
  }
 },
 "nbformat": 4,
 "nbformat_minor": 5
}
