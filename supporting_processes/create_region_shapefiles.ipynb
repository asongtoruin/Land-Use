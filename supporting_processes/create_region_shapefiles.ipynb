{
 "cells": [
  {
   "cell_type": "code",
   "execution_count": 1,
   "id": "6b565b80-65c3-47bd-9ec7-0616200b21e6",
   "metadata": {},
   "outputs": [],
   "source": [
    "from pathlib import Path\n",
    "\n",
    "import pandas as pd\n",
    "import geopandas as gpd"
   ]
  },
  {
   "cell_type": "code",
   "execution_count": 2,
   "id": "bcfc1033-0fb6-4685-a989-7ad96488c398",
   "metadata": {},
   "outputs": [],
   "source": [
    "# define a dictionary of references to use in the land use model, \n",
    "# and the name of the region in the input shapefiles in the 'RGN21NM' column\n",
    "dict_of_regions = {\n",
    "    'EM': 'East Midlands',\n",
    "    'EoE': 'East of England',\n",
    "    'Lon': 'London',\n",
    "    'NE': 'North East',\n",
    "    'NW': 'North West',\n",
    "    'SE': 'South East',\n",
    "    'SW': 'South West',\n",
    "    'Wales': 'Wales',\n",
    "    'WM': 'West Midlands',\n",
    "    'YH': 'Yorkshire and The Humber'\n",
    "}"
   ]
  },
  {
   "cell_type": "code",
   "execution_count": 3,
   "id": "9283a5e9-6988-4aec-bf8a-2f8de06cbf32",
   "metadata": {},
   "outputs": [],
   "source": [
    "# define path to all shapefiles\n",
    "input_path = Path(r'F:\\Working\\Land-Use\\SHAPEFILES')"
   ]
  },
  {
   "cell_type": "code",
   "execution_count": 4,
   "id": "7b82c259-43ea-492c-b930-578662aad4d5",
   "metadata": {},
   "outputs": [],
   "source": [
    "# get LSOA, MSOA, LAD, and GOR shapefile\n",
    "lsoa_shapefile = input_path / 'LSOA (2021)' / 'LSOA_2021_EnglandWales.shp'\n",
    "msoa_shapefile = input_path / 'MSOA (2021)' / 'MSOA_2021_EnglandWales.shp'\n",
    "lad_shapefile = input_path / 'LAD (2021)' / 'LAD_2021_EnglandWales.shp'\n",
    "gor_shapefile = input_path / 'GOR (2021)' / 'GOR_2021_EnglandWales.shp'\n",
    "\n",
    "# define master list of files to convert\n",
    "input_files = [\n",
    "    lsoa_shapefile, \n",
    "    msoa_shapefile, \n",
    "    lad_shapefile, \n",
    "    gor_shapefile\n",
    "]"
   ]
  },
  {
   "cell_type": "code",
   "execution_count": 5,
   "id": "6e86d9e4-a1a6-476e-8c9c-36cebcea98a4",
   "metadata": {},
   "outputs": [],
   "source": [
    "# loop through the input files (covering the whole of england and wales)\n",
    "for file in input_files:\n",
    "    data = gpd.read_file(file)\n",
    "    # also export csv for the zone translations\n",
    "    data.drop(columns=['geometry']).to_csv(file.with_suffix('.csv'), index=False)\n",
    "    # subset each england and wales total dataset into different outputs per region\n",
    "    for reference, region in dict_of_regions.items():\n",
    "        output = data.loc[data['RGN21NM'] == region]\n",
    "        output.to_file(file.parent / f'{file.stem}_{reference}.shp')\n",
    "        output.drop(columns=['geometry']).to_csv(file.parent / f'{file.stem}_{reference}.csv', index=False)"
   ]
  },
  {
   "cell_type": "code",
   "execution_count": null,
   "id": "ba329273-8992-4681-960d-92e948d9334a",
   "metadata": {},
   "outputs": [],
   "source": []
  }
 ],
 "metadata": {
  "kernelspec": {
   "display_name": "Python 3 (ipykernel)",
   "language": "python",
   "name": "python3"
  },
  "language_info": {
   "codemirror_mode": {
    "name": "ipython",
    "version": 3
   },
   "file_extension": ".py",
   "mimetype": "text/x-python",
   "name": "python",
   "nbconvert_exporter": "python",
   "pygments_lexer": "ipython3",
   "version": "3.11.9"
  }
 },
 "nbformat": 4,
 "nbformat_minor": 5
}
